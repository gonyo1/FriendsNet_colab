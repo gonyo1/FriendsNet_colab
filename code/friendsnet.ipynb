{
 "cells": [
  {
   "cell_type": "markdown",
   "metadata": {
    "id": "ipTPz7ktK6wr"
   },
   "source": [
    "#### **[STEP 1] 구글설문지 예시 살펴보기**"
   ]
  },
  {
   "cell_type": "code",
   "execution_count": null,
   "metadata": {
    "id": "n1uX2wbrK6ws"
   },
   "outputs": [],
   "source": [
    "from IPython.display import Javascript\n",
    "def open_tab(url):\n",
    "    display(Javascript('window.open(\"{url}\");'.format(url=url)))\n",
    "\n",
    "url = \"https://docs.google.com/forms/d/1rsc4tRZ2yqujIq2ccW6TISTkCpmTWP4VQy1y5BzCF84/template/preview\"\n",
    "open_tab(url)"
   ]
  },
  {
   "cell_type": "markdown",
   "metadata": {
    "id": "mRmlPMZfydY-"
   },
   "source": [
    "#### **[STEP 2] 구글드라이브 마운트**"
   ]
  },
  {
   "cell_type": "code",
   "execution_count": null,
   "metadata": {
    "id": "tRpP3BXW247T"
   },
   "outputs": [],
   "source": [
    "# google의 colab 모듈에서 drive 불러오기\n",
    "from google.colab import drive\n",
    "drive.mount(\"/content/drive\")\n",
    "\n",
    "# 현재 실행 경로(Current directory) 변경\n",
    "import os\n",
    "os.chdir(\"/content/drive/MyDrive\")\n",
    "\n",
    "# [내 드라이브] 에 [파이썬으로 레벨 업] 폴더 생성\n",
    "try:\n",
    "    os.mkdir(\"파이썬으로 레벨 업\")\n",
    "except FileExistsError:\n",
    "    pass"
   ]
  },
  {
   "cell_type": "markdown",
   "metadata": {
    "id": "__2Kvylyyh-Z"
   },
   "source": [
    "#### **[STEP 3] 패키지 불러오기**"
   ]
  },
  {
   "cell_type": "code",
   "execution_count": 28,
   "metadata": {
    "id": "8hHGqXd12L_z"
   },
   "outputs": [],
   "source": [
    "# 사용할 패키지 불러오기\n",
    "import os\n",
    "import requests\n",
    "import pandas as pd  # pandas 패키지를 pd 라는 이름으로 불러오기\n",
    "import networkx as nx  # networkx 패키지를 nx 라는 이름으로 불러오기\n",
    "import matplotlib.pyplot as plt  # matplotlib의 pyplot 모듈을 plt 라는 이름으로 불러오기\n",
    "import matplotlib.font_manager as fm  # matplotlib의 font_manager 모듈을 fm 이라는 이름으로 불러오기"
   ]
  },
  {
   "cell_type": "markdown",
   "metadata": {
    "id": "0B7NaRbdyuTQ"
   },
   "source": [
    "#### **[STEP 4] Matplotlib 폰트 설치하기**"
   ]
  },
  {
   "cell_type": "code",
   "execution_count": 29,
   "metadata": {
    "id": "xHfHe4oG5I4W"
   },
   "outputs": [],
   "source": [
    "# 나눔 폰트 다운로드\n",
    "os.system(\"apt-get install -y fonts-nanum\")\n",
    "\n",
    "# 파일 경로 설정하기\n",
    "font_path = \"/usr/share/fonts/truetype/nanum/NanumGothic.ttf\"\n",
    "\n",
    "# 폰트 추가하기\n",
    "new_font = fm.FontEntry(fname=font_path, name=\"나눔고딕\")\n",
    "fm.fontManager.ttflist.append(new_font)\n",
    "\n",
    "# Matplotlib Parameters 업데이트\n",
    "plt.rcParams.update({'font.size': 10, 'font.family': '나눔고딕'})"
   ]
  },
  {
   "cell_type": "markdown",
   "metadata": {
    "id": "CpbZ-vvOzDm4"
   },
   "source": [
    "#### **[STEP 5] CSV 파일 조작하기**"
   ]
  },
  {
   "cell_type": "code",
   "execution_count": 34,
   "metadata": {
    "id": "QXBnBuBD3e4G"
   },
   "outputs": [],
   "source": [
    "csv_path = \"파이썬으로 레벨 업/data.csv\"\n",
    "\n",
    "def get_csv_data(**kwargs) -> dict:\n",
    "    # CSV 열 데이터 가져오기\n",
    "    def get_column_data(add:int) -> list:\n",
    "        values = csv_df[csv_columns[name_index + add]].tolist()\n",
    "        return values\n",
    "\n",
    "    # 문항별 결과 처리\n",
    "    def get_values(question:int, result:dict):\n",
    "        values = get_column_data(question + 1)\n",
    "\n",
    "        for idx_answer, answer in enumerate(values):\n",
    "            if type(answer) is not str:\n",
    "                answer = \"\"\n",
    "\n",
    "            name = csv_data[\"names\"][idx_answer]\n",
    "            names = answer.split(\", \")\n",
    "\n",
    "            try:\n",
    "                result[name] += names\n",
    "            except:\n",
    "                result[name] = names\n",
    "\n",
    "            result[name] = list(set(result[name]))\n",
    "\n",
    "    # 카테고리에 해당하는 문항 일괄 처리\n",
    "    def get_category_values(groups:list) -> dict:\n",
    "        result = {}\n",
    "\n",
    "        for idx, question in enumerate(groups):\n",
    "            get_values(question, result)\n",
    "\n",
    "        return result\n",
    "\n",
    "    # 카테고리에 해당하는 결과 중 선택받은 수를 기준으로 정렬\n",
    "    def get_ranker(category):\n",
    "        def get_item(item):\n",
    "            return item[1]\n",
    "\n",
    "        ranker = {}\n",
    "\n",
    "        for student in csv_data[category]:\n",
    "            ranker[student] = 0\n",
    "            for answers in csv_data[category].values():\n",
    "                if student in answers:\n",
    "                    try:\n",
    "                        ranker[student] += 1\n",
    "                    except:\n",
    "                        ranker[student] = 1\n",
    "\n",
    "        sorted_ranker = sorted(ranker.items(), key=get_item, reverse=True)\n",
    "        return sorted_ranker\n",
    "\n",
    "    # 카테고리별로 가장 많이 선택을 받은 학생 출력\n",
    "    def print_ranker(category):\n",
    "        top_ranker = []\n",
    "\n",
    "        for student in get_ranker(category)[:3]:\n",
    "            top_ranker.append(student[0])\n",
    "\n",
    "        top_ranker_text = \", \".join(top_ranker)\n",
    "        print(f\"우리 반 {category}에서 가장 많은 선택을 받은 학생은 {top_ranker_text}입니다.\")\n",
    "\n",
    "    # CSV 파일 불러오기\n",
    "    csv_df = pd.read_csv(csv_path)\n",
    "    csv_columns = csv_df.columns.tolist()\n",
    "    name_index = csv_columns.index('2. 이름을 입력해주세요.')\n",
    "\n",
    "    # CSV 데이터 변환 및 저장하기\n",
    "    csv_data = dict()\n",
    "    csv_data['names'] = get_column_data(add=0)\n",
    "    csv_data['gender'] = get_column_data(add=1)\n",
    "\n",
    "    for key, content in kwargs.items():\n",
    "        csv_data[key] = get_category_values(content)\n",
    "        print_ranker(key)\n",
    "\n",
    "    return csv_data"
   ]
  },
  {
   "cell_type": "markdown",
   "metadata": {
    "id": "NbzxuUJh08yq"
   },
   "source": [
    "#### **[STEP 6] NetworkX 그래프 그리기**"
   ]
  },
  {
   "cell_type": "code",
   "execution_count": 31,
   "metadata": {
    "id": "QzguppnJ9iaa"
   },
   "outputs": [],
   "source": [
    "def draw_graph(csv_data, **kwargs):\n",
    "    # Node의 색상 불투명도 설정\n",
    "    def plt_rgba(r:int, g:int, b:int, a:int):\n",
    "        return (r/255, g/255, b/255, a)\n",
    "\n",
    "    # Node의 크기를 가중치에 따라 설정\n",
    "    def set_node_size(degree):\n",
    "        node_resized = list()\n",
    "        base_size = 80\n",
    "\n",
    "        for item in degree:\n",
    "            size = base_size * (item[1] * 3 + 1)\n",
    "            node_resized.append(size)\n",
    "\n",
    "        return node_resized\n",
    "\n",
    "    # Node의 색상을 [성별 및 선택 받은 수]에 따라 설정\n",
    "    def set_node_color(degree):\n",
    "        # 필요한 변수 설정\n",
    "        node_color = []\n",
    "        degree_values = [item[1] for item in degree]\n",
    "        degree_values.sort(reverse=True)\n",
    "\n",
    "        # [성별 및 선택 받은 수] 에 따라 Node의 색 설정\n",
    "        for item in degree:\n",
    "            name = item[0]\n",
    "            index = csv_data[\"names\"].index(name)\n",
    "            data = csv_data[\"gender\"][index]\n",
    "\n",
    "            # [선택 받은 수] 에 따라 Node의 불투명도 변경\n",
    "            alpha = 0\n",
    "            if item[1] in degree_values[0:2]:\n",
    "                alpha = 0.8\n",
    "            elif item[1] in degree_values[2:5]:\n",
    "                alpha = 0.5\n",
    "            else:\n",
    "                alpha = 0.2\n",
    "\n",
    "            # [성별] 에 따라 Node의 색 결정\n",
    "            if data == \"남\":\n",
    "                color = plt_rgba(135, 206, 235, alpha)\n",
    "            else:\n",
    "                color = plt_rgba(255, 192, 203, alpha)\n",
    "\n",
    "            node_color.append(color)\n",
    "\n",
    "        return node_color\n",
    "\n",
    "    # Edge의 색상을 [상호선택여부]에 따라 설정\n",
    "    def set_egde_color(edge:list, content):\n",
    "        edge = list(edge)\n",
    "\n",
    "        edge_color = []\n",
    "        for item in edge:\n",
    "            from_name = item[0]\n",
    "            to_name = item[1]\n",
    "\n",
    "            alpha = 0.3\n",
    "\n",
    "            # [상호선택여부] 가 참이면 불투명도 1로 설정\n",
    "            if to_name != \"\":\n",
    "                if from_name in content[to_name]:\n",
    "                    alpha = 1\n",
    "\n",
    "            color = plt_rgba(84, 183, 153, alpha)\n",
    "            edge_color.append(color)\n",
    "\n",
    "        return edge_color\n",
    "\n",
    "    # plt 생성하기 (2x3 으로 이루어진 여섯 개의 plots)\n",
    "    plt.subplots(2, 3, figsize=(20, 14))\n",
    "\n",
    "    # Graph 그리기\n",
    "    graph_idx = 1\n",
    "    for category, content in kwargs.items():\n",
    "        # Graph 위치 결정\n",
    "        plt.subplot(2, 3, graph_idx)\n",
    "\n",
    "        # Graph 제목\n",
    "        plt.title(f\"{category} 그래프\", fontdict = {'fontsize' : 16, 'fontweight' : \"bold\"})\n",
    "\n",
    "        # NetworkX 객체 생성\n",
    "        G = nx.DiGraph()\n",
    "        pos = nx.kamada_kawai_layout(G)\n",
    "        degree = G.in_degree\n",
    "        edge = G.edges()\n",
    "\n",
    "        # Node 설정\n",
    "        for name in csv_data['names']:\n",
    "            G.add_node(name)\n",
    "\n",
    "        # Edge 설정\n",
    "        for from_name, to_names in content.items():\n",
    "            for to_name in to_names:\n",
    "                if to_name != \"\":\n",
    "                    G.add_edge(from_name, to_name)\n",
    "\n",
    "        # NetworkX 객체의 레이아웃 및 속성 정보 가져오기\n",
    "        pos = nx.kamada_kawai_layout(G)\n",
    "        degree = G.in_degree\n",
    "        edge = G.edges()\n",
    "\n",
    "        # NetworkX Graph 그리기\n",
    "        G = nx.draw(G,\n",
    "                    with_labels=True,\n",
    "                    pos = pos,\n",
    "                    node_color = set_node_color(degree),\n",
    "                    node_size = set_node_size(degree),\n",
    "                    edge_color = set_egde_color(edge, content),\n",
    "                    font_family = \"나눔고딕\",\n",
    "                    )\n",
    "\n",
    "        # 다음 위치로 넘어가기\n",
    "        graph_idx += 1\n",
    "\n",
    "    # 마지막(여섯 번째) subplot의 axes(축) 지우기\n",
    "    plt.delaxes(plt.subplot(2, 3, 6))\n",
    "\n",
    "    # subplots의 여백 설정\n",
    "    plt.subplots_adjust(wspace=0, hspace=0)\n",
    "\n",
    "    return plt"
   ]
  },
  {
   "cell_type": "markdown",
   "metadata": {
    "id": "54DPQjj88L3V"
   },
   "source": [
    "#### **[STEP 7] 최종 그래프 그리기**"
   ]
  },
  {
   "cell_type": "code",
   "execution_count": null,
   "metadata": {
    "id": "p94vTMY2E5-d"
   },
   "outputs": [],
   "source": [
    "# 문항별로 그룹화하기\n",
    "csv_data = get_csv_data(인기지수=[1, 2],\n",
    "                        위기지수=[3],\n",
    "                        브레인지수=[4, 5],\n",
    "                        미래확장지수=[6, 7, 8, 9],\n",
    "                        버럭이지수=[10])"
   ]
  },
  {
   "cell_type": "code",
   "execution_count": null,
   "metadata": {
    "id": "fHbtHyJHE6dQ"
   },
   "outputs": [],
   "source": [
    "plt = draw_graph(csv_data,\n",
    "                 인기지수=csv_data[\"인기지수\"],\n",
    "                 위기지수=csv_data[\"위기지수\"],\n",
    "                 브레인지수=csv_data[\"브레인지수\"],\n",
    "                 미래확장지수=csv_data[\"미래확장지수\"],\n",
    "                 버럭이지수=csv_data[\"버럭이지수\"])\n",
    "plt.show()"
   ]
  }
 ],
 "metadata": {
  "colab": {
   "provenance": []
  },
  "kernelspec": {
   "display_name": "Python 3 (ipykernel)",
   "language": "python",
   "name": "python3"
  },
  "language_info": {
   "codemirror_mode": {
    "name": "ipython",
    "version": 3
   },
   "file_extension": ".py",
   "mimetype": "text/x-python",
   "name": "python",
   "nbconvert_exporter": "python",
   "pygments_lexer": "ipython3",
   "version": "3.11.7"
  }
 },
 "nbformat": 4,
 "nbformat_minor": 4
}
