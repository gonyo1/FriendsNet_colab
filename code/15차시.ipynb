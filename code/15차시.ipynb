{
  "nbformat": 4,
  "nbformat_minor": 0,
  "metadata": {
    "colab": {
      "provenance": []
    },
    "kernelspec": {
      "name": "python3",
      "display_name": "Python 3"
    },
    "language_info": {
      "name": "python"
    }
  },
  "cells": [
    {
      "cell_type": "markdown",
      "source": [
        "### **[15-1] 교우관계 설문 결과 데이터 요약하기**"
      ],
      "metadata": {
        "id": "zpPXoP6nr1lm"
      }
    },
    {
      "cell_type": "code",
      "source": [
        "# 구글 드라이브 마운트\n",
        "from google.colab import drive\n",
        "drive.mount('/content/drive')\n",
        "\n",
        "# 현재 실행 경로 변경\n",
        "import os\n",
        "os.chdir(\"/content/drive/MyDrive\")\n",
        "\n",
        "# [내 드라이브] 에 [파이썬으로 레벨 업] 폴더 생성\n",
        "# os.mkdir(\"파이썬으로 레벨 업\")"
      ],
      "metadata": {
        "colab": {
          "base_uri": "https://localhost:8080/"
        },
        "id": "bSAndUK8S_EO",
        "outputId": "2022fd98-68f8-4f89-ac55-e6676b72223a"
      },
      "execution_count": null,
      "outputs": [
        {
          "output_type": "stream",
          "name": "stdout",
          "text": [
            "Mounted at /content/drive\n"
          ]
        }
      ]
    },
    {
      "cell_type": "code",
      "source": [
        "# requests 모듈 불러오기\n",
        "import requests\n",
        "\n",
        "# CSV 파일 데이터 가져오기\n",
        "url = \"https://raw.githubusercontent.com/gonyo1/colab/main/data.csv\"\n",
        "response = requests.get(url)\n",
        "path = \"파이썬으로 레벨 업/data.csv\"\n",
        "\n",
        "# 바이너리 형식으로 저장\n",
        "with open(path, \"wb\") as f:\n",
        "    f.write(response.content)"
      ],
      "metadata": {
        "id": "CU69L21y-O9T"
      },
      "execution_count": null,
      "outputs": []
    },
    {
      "cell_type": "code",
      "source": [
        "# Pandas 로 데이터 불러오기\n",
        "import pandas as pd\n",
        "csv_path = \"파이썬으로 레벨 업/data.csv\"\n",
        "csv_df = pd.read_csv(csv_path)\n",
        "\n",
        "# FriendsNet 데이터 처리\n",
        "csv_data = {}\n",
        "columns = csv_df.columns.tolist()\n",
        "name_index = columns.index(\"2. 이름을 입력해주세요.\")"
      ],
      "metadata": {
        "id": "yzuCE6wK97DH"
      },
      "execution_count": null,
      "outputs": []
    },
    {
      "cell_type": "code",
      "source": [
        "# 열 데이터를 가져오기 위한 함수\n",
        "def get_column_data(add):\n",
        "    values = csv_df[columns[name_index + add]].tolist()\n",
        "    return values"
      ],
      "metadata": {
        "id": "WCMK6gxuEP9P"
      },
      "execution_count": null,
      "outputs": []
    },
    {
      "cell_type": "code",
      "source": [
        "# 열 데이터를 딕셔너리로 저장하는 함수\n",
        "def get_values(question, result):\n",
        "    values = get_column_data(question + 1)\n",
        "\n",
        "    for idx_answer, answer in enumerate(values):\n",
        "        name = csv_data[\"names\"][idx_answer]\n",
        "        names = answer.split(\", \")\n",
        "\n",
        "        try:\n",
        "            result[name] += names\n",
        "        except:\n",
        "            result[name] = names\n",
        "\n",
        "        result[name] = list(set(result[name]))"
      ],
      "metadata": {
        "id": "YfCd9KU00XzF"
      },
      "execution_count": null,
      "outputs": []
    },
    {
      "cell_type": "code",
      "source": [
        "# 열 리스트 목록 전체를 딕셔너리로 저장하는 함수\n",
        "def get_category_values(groups):\n",
        "    result = {}\n",
        "\n",
        "    for idx, question in enumerate(groups):\n",
        "        get_values(question, result)\n",
        "\n",
        "    return result"
      ],
      "metadata": {
        "id": "O5LgWB6I0t_n"
      },
      "execution_count": null,
      "outputs": []
    },
    {
      "cell_type": "code",
      "source": [
        "# 데이터 생성하기\n",
        "csv_data[\"names\"] = get_column_data(add=0)\n",
        "csv_data[\"gender\"] = get_column_data(add=1)\n",
        "csv_data[\"인기지수\"] = get_category_values([1, 2])\n",
        "csv_data[\"위기지수\"] = get_category_values([3])\n",
        "csv_data[\"브레인지수\"] = get_category_values([4, 5])\n",
        "csv_data[\"미래확장지수\"] = get_category_values([6, 7, 8, 9])\n",
        "csv_data[\"버럭이지수\"] = get_category_values([10])\n",
        "\n",
        "# 데이터 출력\n",
        "csv_data"
      ],
      "metadata": {
        "id": "Cmcn1yCE5BLF",
        "colab": {
          "base_uri": "https://localhost:8080/"
        },
        "outputId": "57fe9c6c-c06e-4e5c-d98b-09e7c0a8d7a3"
      },
      "execution_count": null,
      "outputs": [
        {
          "output_type": "execute_result",
          "data": {
            "text/plain": [
              "{'names': ['심현O',\n",
              "  '최다O',\n",
              "  '김O준',\n",
              "  '심하O',\n",
              "  '조아O',\n",
              "  '이도O',\n",
              "  '김민O',\n",
              "  '김O현',\n",
              "  '홍지O',\n",
              "  '김나O',\n",
              "  '홍서O',\n",
              "  '김O서',\n",
              "  '주시O',\n",
              "  '김규O',\n",
              "  '김O휘',\n",
              "  '최선O',\n",
              "  '이지O',\n",
              "  '김리O'],\n",
              " 'gender': ['남',\n",
              "  '여',\n",
              "  '남',\n",
              "  '여',\n",
              "  '여',\n",
              "  '남',\n",
              "  '여',\n",
              "  '남',\n",
              "  '여',\n",
              "  '여',\n",
              "  '여',\n",
              "  '여',\n",
              "  '남',\n",
              "  '여',\n",
              "  '남',\n",
              "  '남',\n",
              "  '여',\n",
              "  '여'],\n",
              " '인기지수': {'심현O': ['주시O', '최선O', '심현O', '이도O', '김O준'],\n",
              "  '최다O': ['김민O', '홍지O', '최다O', '이도O'],\n",
              "  '김O준': ['김O휘', '김규O', '최선O', '이도O', '이지O', '홍지O'],\n",
              "  '심하O': ['김규O', '김민O', '최선O', '이도O'],\n",
              "  '조아O': ['김규O', '김민O', '김나O', '이지O', '홍지O'],\n",
              "  '이도O': ['김민O', '심현O', '최다O'],\n",
              "  '김민O': ['홍지O', '홍서O'],\n",
              "  '김O현': ['주시O', '김민O', '최선O', '심현O', '이지O', '홍지O'],\n",
              "  '홍지O': ['최다O', '김민O', '최선O', '이도O', '김나O', '홍지O'],\n",
              "  '김나O': ['김민O', '최선O', '홍서O', '김나O', '조아O'],\n",
              "  '홍서O': ['최선O', '이도O', '김나O', '김O서', '홍지O'],\n",
              "  '김O서': ['최다O', '김민O', '이도O', '이지O', '홍지O'],\n",
              "  '주시O': ['김O현', '심현O', '최선O', '김O휘'],\n",
              "  '김규O': ['김민O', '최선O', '홍서O', '이지O', '홍지O', '김O준'],\n",
              "  '김O휘': ['주시O', '김민O', '최선O', '이도O'],\n",
              "  '최선O': ['김민O', '이도O'],\n",
              "  '이지O': ['최다O', '김규O', '최선O', '이도O', '이지O', '김O준'],\n",
              "  '김리O': ['김규O', '홍서O']},\n",
              " '위기지수': {'심현O': ['김민O', '김리O', '김나O'],\n",
              "  '최다O': ['김O현'],\n",
              "  '김O준': ['김O서', '조아O', '홍서O'],\n",
              "  '심하O': ['김O현', '홍서O'],\n",
              "  '조아O': ['김O서', '김리O', '홍서O'],\n",
              "  '이도O': ['김리O'],\n",
              "  '김민O': ['김O현', '김O휘'],\n",
              "  '김O현': ['최선O', '이도O', '김나O'],\n",
              "  '홍지O': ['김O서', '김리O', '김O현'],\n",
              "  '김나O': ['김O서', '김O준', '이지O'],\n",
              "  '홍서O': ['주시O', '김O현', '김O휘'],\n",
              "  '김O서': ['이지O', '조아O', '홍지O'],\n",
              "  '주시O': ['홍서O', '김나O'],\n",
              "  '김규O': ['김O서', '김리O', '홍서O'],\n",
              "  '김O휘': ['김리O', '조아O', '홍서O'],\n",
              "  '최선O': ['김O서', '심하O', '조아O'],\n",
              "  '이지O': ['홍서O'],\n",
              "  '김리O': ['최선O']},\n",
              " '브레인지수': {'심현O': ['주시O', '김O휘', '김O준', '이도O'],\n",
              "  '최다O': ['김규O', '조아O', '심하O', '홍지O'],\n",
              "  '김O준': ['최다O', '김규O', '주시O', '이지O', '홍지O'],\n",
              "  '심하O': ['김규O', '김민O', '조아O', '최다O'],\n",
              "  '조아O': ['김민O', '심하O', '최다O'],\n",
              "  '이도O': ['김민O', '최다O', '홍서O'],\n",
              "  '김민O': ['심하O', '홍지O', '홍서O'],\n",
              "  '김O현': ['이지O', '김민O', '홍서O'],\n",
              "  '홍지O': ['김민O', '심하O', '홍서O', '이도O'],\n",
              "  '김나O': ['김민O', '조아O', '홍서O'],\n",
              "  '홍서O': ['이지O', '김민O', '홍지O'],\n",
              "  '김O서': ['주시O', '김민O', '최다O', '홍서O'],\n",
              "  '주시O': ['김O휘', '이도O', '김O서', '김O현', '김O준'],\n",
              "  '김규O': ['최다O', '김민O', '심하O', '이지O', '조아O'],\n",
              "  '김O휘': ['김O서', '최다O', '심하O', '최선O'],\n",
              "  '최선O': ['김O준', '이도O', '홍서O', '김O휘'],\n",
              "  '이지O': ['김민O', '심하O', '이지O', '조아O', '홍지O'],\n",
              "  '김리O': ['홍서O']},\n",
              " '미래확장지수': {'심현O': ['김O휘', '주시O', '이도O', '김O현', '김O준'],\n",
              "  '최다O': ['김규O', '김민O', '심하O', '조아O', '홍지O'],\n",
              "  '김O준': ['김O휘', '최선O', '이도O'],\n",
              "  '심하O': ['김규O', '조아O', '홍지O', '최다O'],\n",
              "  '조아O': ['김규O', '이지O', '심하O', '홍지O'],\n",
              "  '이도O': ['최선O', '김O준', '김O휘'],\n",
              "  '김민O': ['김규O', '홍지O', '홍서O', '김나O'],\n",
              "  '김O현': ['주시O', '김민O', '심현O', '홍서O', '홍지O', '김O준'],\n",
              "  '홍지O': ['김민O', '조아O', '홍서O', '이도O'],\n",
              "  '김나O': ['김민O', '조아O', '홍지O', '홍서O'],\n",
              "  '홍서O': ['김O서', '김민O', '홍지O', '이지O'],\n",
              "  '김O서': ['최다O', '김규O', '심현O', '이도O', '홍서O', '김나O', '이지O'],\n",
              "  '주시O': ['김O현', '심현O', '김O준', '이도O'],\n",
              "  '김규O': ['최다O', '김민O', '이도O', '심하O', '홍서O', '이지O', '조아O', '김O준'],\n",
              "  '김O휘': ['최다O', '김규O', '최선O', '이도O', '심하O', '김O서', '김O준'],\n",
              "  '최선O': ['김O휘', '김O준', '이도O'],\n",
              "  '이지O': ['최다O', '김규O', '김민O', '이도O', '홍서O', '조아O', '홍지O', '김O준'],\n",
              "  '김리O': ['김O휘', '김규O', '심현O', '이도O', '홍서O']},\n",
              " '버럭이지수': {'심현O': ['이지O', '최선O', '홍지O'],\n",
              "  '최다O': ['이지O', '김O준'],\n",
              "  '김O준': ['김나O', '김O현', '김O휘'],\n",
              "  '심하O': ['이지O', '김O준'],\n",
              "  '조아O': ['김나O'],\n",
              "  '이도O': ['주시O', '심현O', '김나O'],\n",
              "  '김민O': ['주시O', '김O현', '심현O'],\n",
              "  '김O현': ['주시O', '심현O', '김O준'],\n",
              "  '홍지O': ['이지O', '심하O', '김O준'],\n",
              "  '김나O': ['이지O', '김O준', '김O휘'],\n",
              "  '홍서O': ['이지O'],\n",
              "  '김O서': ['김O현', '심현O', '최선O'],\n",
              "  '주시O': ['심현O'],\n",
              "  '김규O': ['최선O', '심현O', '김나O'],\n",
              "  '김O휘': ['이지O'],\n",
              "  '최선O': ['조아O', '심현O', '김나O'],\n",
              "  '이지O': ['심현O', '최다O', '김O휘'],\n",
              "  '김리O': ['이지O']}}"
            ]
          },
          "metadata": {},
          "execution_count": 19
        }
      ]
    },
    {
      "cell_type": "code",
      "source": [
        "ranker = {}\n",
        "\n",
        "# 선택 받은 수 계산하기\n",
        "for student in csv_data[\"인기지수\"]:\n",
        "    ranker[student] = 0\n",
        "    for answers in csv_data[\"인기지수\"].values():\n",
        "        if student in answers:\n",
        "            ranker[student] += 1\n",
        "\n",
        "print(ranker)"
      ],
      "metadata": {
        "colab": {
          "base_uri": "https://localhost:8080/"
        },
        "id": "aP_vOxqOKo4l",
        "outputId": "4f9c2823-1d3b-4b33-8cfe-e1eee7ccb7ee"
      },
      "execution_count": null,
      "outputs": [
        {
          "output_type": "stream",
          "name": "stdout",
          "text": [
            "{'심현O': 4, '최다O': 5, '김O준': 3, '심하O': 0, '조아O': 1, '이도O': 10, '김민O': 11, '김O현': 1, '홍지O': 9, '김나O': 4, '홍서O': 4, '김O서': 1, '주시O': 3, '김규O': 5, '김O휘': 2, '최선O': 11, '이지O': 6, '김리O': 0}\n"
          ]
        }
      ]
    },
    {
      "cell_type": "code",
      "source": [
        "sorted(ranker)"
      ],
      "metadata": {
        "colab": {
          "base_uri": "https://localhost:8080/"
        },
        "id": "P_mAX5CMXuJg",
        "outputId": "a5e531ed-55b0-481e-ff23-05663d908ad1",
        "collapsed": true
      },
      "execution_count": null,
      "outputs": [
        {
          "output_type": "execute_result",
          "data": {
            "text/plain": [
              "['김O서',\n",
              " '김O준',\n",
              " '김O현',\n",
              " '김O휘',\n",
              " '김규O',\n",
              " '김나O',\n",
              " '김리O',\n",
              " '김민O',\n",
              " '심하O',\n",
              " '심현O',\n",
              " '이도O',\n",
              " '이지O',\n",
              " '조아O',\n",
              " '주시O',\n",
              " '최다O',\n",
              " '최선O',\n",
              " '홍서O',\n",
              " '홍지O']"
            ]
          },
          "metadata": {},
          "execution_count": 9
        }
      ]
    },
    {
      "cell_type": "code",
      "source": [
        "sorted(ranker.items())"
      ],
      "metadata": {
        "colab": {
          "base_uri": "https://localhost:8080/"
        },
        "id": "hkm-bOUxZpfR",
        "outputId": "921507bd-48e1-4a33-c7df-c9a9110845c2",
        "collapsed": true
      },
      "execution_count": null,
      "outputs": [
        {
          "output_type": "execute_result",
          "data": {
            "text/plain": [
              "[('김O서', 1),\n",
              " ('김O준', 3),\n",
              " ('김O현', 1),\n",
              " ('김O휘', 2),\n",
              " ('김규O', 5),\n",
              " ('김나O', 4),\n",
              " ('김리O', 0),\n",
              " ('김민O', 11),\n",
              " ('심하O', 0),\n",
              " ('심현O', 4),\n",
              " ('이도O', 10),\n",
              " ('이지O', 6),\n",
              " ('조아O', 1),\n",
              " ('주시O', 3),\n",
              " ('최다O', 5),\n",
              " ('최선O', 11),\n",
              " ('홍서O', 4),\n",
              " ('홍지O', 9)]"
            ]
          },
          "metadata": {},
          "execution_count": 10
        }
      ]
    },
    {
      "cell_type": "code",
      "source": [
        "def get_item(item):\n",
        "    return item[1]\n",
        "sorted(ranker.items(), key=get_item)"
      ],
      "metadata": {
        "colab": {
          "base_uri": "https://localhost:8080/"
        },
        "id": "i6hPqtCocLCo",
        "outputId": "05b7608e-ec1c-464b-9285-3fba0619fb43",
        "collapsed": true
      },
      "execution_count": null,
      "outputs": [
        {
          "output_type": "execute_result",
          "data": {
            "text/plain": [
              "[('심하O', 0),\n",
              " ('김리O', 0),\n",
              " ('조아O', 1),\n",
              " ('김O현', 1),\n",
              " ('김O서', 1),\n",
              " ('김O휘', 2),\n",
              " ('김O준', 3),\n",
              " ('주시O', 3),\n",
              " ('심현O', 4),\n",
              " ('김나O', 4),\n",
              " ('홍서O', 4),\n",
              " ('최다O', 5),\n",
              " ('김규O', 5),\n",
              " ('이지O', 6),\n",
              " ('홍지O', 9),\n",
              " ('이도O', 10),\n",
              " ('김민O', 11),\n",
              " ('최선O', 11)]"
            ]
          },
          "metadata": {},
          "execution_count": 11
        }
      ]
    },
    {
      "cell_type": "code",
      "source": [
        "def get_item(item):\n",
        "    return item[1]\n",
        "sorted(ranker.items(), key=get_item(item))"
      ],
      "metadata": {
        "colab": {
          "base_uri": "https://localhost:8080/",
          "height": 179
        },
        "id": "_23wkd2mega_",
        "outputId": "ae559c26-9efb-4f85-d597-b2b0d840c060"
      },
      "execution_count": null,
      "outputs": [
        {
          "output_type": "error",
          "ename": "NameError",
          "evalue": "name 'item' is not defined",
          "traceback": [
            "\u001b[0;31m---------------------------------------------------------------------------\u001b[0m",
            "\u001b[0;31mNameError\u001b[0m                                 Traceback (most recent call last)",
            "\u001b[0;32m<ipython-input-12-fcb90f26dc3a>\u001b[0m in \u001b[0;36m<cell line: 3>\u001b[0;34m()\u001b[0m\n\u001b[1;32m      1\u001b[0m \u001b[0;32mdef\u001b[0m \u001b[0mget_item\u001b[0m\u001b[0;34m(\u001b[0m\u001b[0mitem\u001b[0m\u001b[0;34m)\u001b[0m\u001b[0;34m:\u001b[0m\u001b[0;34m\u001b[0m\u001b[0;34m\u001b[0m\u001b[0m\n\u001b[1;32m      2\u001b[0m     \u001b[0;32mreturn\u001b[0m \u001b[0mitem\u001b[0m\u001b[0;34m[\u001b[0m\u001b[0;36m1\u001b[0m\u001b[0;34m]\u001b[0m\u001b[0;34m\u001b[0m\u001b[0;34m\u001b[0m\u001b[0m\n\u001b[0;32m----> 3\u001b[0;31m \u001b[0msorted\u001b[0m\u001b[0;34m(\u001b[0m\u001b[0mranker\u001b[0m\u001b[0;34m.\u001b[0m\u001b[0mitems\u001b[0m\u001b[0;34m(\u001b[0m\u001b[0;34m)\u001b[0m\u001b[0;34m,\u001b[0m \u001b[0mkey\u001b[0m\u001b[0;34m=\u001b[0m\u001b[0mget_item\u001b[0m\u001b[0;34m(\u001b[0m\u001b[0mitem\u001b[0m\u001b[0;34m)\u001b[0m\u001b[0;34m)\u001b[0m\u001b[0;34m\u001b[0m\u001b[0;34m\u001b[0m\u001b[0m\n\u001b[0m",
            "\u001b[0;31mNameError\u001b[0m: name 'item' is not defined"
          ]
        }
      ]
    },
    {
      "cell_type": "code",
      "source": [
        "sorted_ranker = sorted(ranker.items(), key=get_item, reverse=True)\n",
        "sorted_ranker"
      ],
      "metadata": {
        "colab": {
          "base_uri": "https://localhost:8080/"
        },
        "id": "LPRVPlr2EDn2",
        "outputId": "389452bf-8cde-4611-aeef-846fba7d6675"
      },
      "execution_count": null,
      "outputs": [
        {
          "output_type": "execute_result",
          "data": {
            "text/plain": [
              "[('김민O', 11),\n",
              " ('최선O', 11),\n",
              " ('이도O', 10),\n",
              " ('홍지O', 9),\n",
              " ('이지O', 6),\n",
              " ('최다O', 5),\n",
              " ('김규O', 5),\n",
              " ('심현O', 4),\n",
              " ('김나O', 4),\n",
              " ('홍서O', 4),\n",
              " ('김O준', 3),\n",
              " ('주시O', 3),\n",
              " ('김O휘', 2),\n",
              " ('조아O', 1),\n",
              " ('김O현', 1),\n",
              " ('김O서', 1),\n",
              " ('심하O', 0),\n",
              " ('김리O', 0)]"
            ]
          },
          "metadata": {},
          "execution_count": 13
        }
      ]
    },
    {
      "cell_type": "code",
      "source": [
        "def get_ranker(category):\n",
        "    ranker = {}\n",
        "\n",
        "    # 해당 학생을 선택한 학생 수 계산하기\n",
        "    for student in csv_data[category]:\n",
        "        ranker[student] = 0\n",
        "        for answers in csv_data[category].values():\n",
        "            if student in answers:\n",
        "                try:\n",
        "                    ranker[student] += 1\n",
        "                except:\n",
        "                    ranker[student] = 1\n",
        "\n",
        "    sorted_ranker = sorted(ranker.items(), key=get_item, reverse=True)\n",
        "    return sorted_ranker"
      ],
      "metadata": {
        "id": "M7YCaZCRELve"
      },
      "execution_count": null,
      "outputs": []
    },
    {
      "cell_type": "code",
      "source": [
        "get_ranker(\"인기지수\")[0:3]"
      ],
      "metadata": {
        "colab": {
          "base_uri": "https://localhost:8080/"
        },
        "id": "7JRSf8J7Elcv",
        "outputId": "82f7117e-6d0f-46b4-d6e6-f9d1b2e1c9b4"
      },
      "execution_count": null,
      "outputs": [
        {
          "output_type": "execute_result",
          "data": {
            "text/plain": [
              "[('김민O', 11), ('최선O', 11), ('이도O', 10)]"
            ]
          },
          "metadata": {},
          "execution_count": 15
        }
      ]
    },
    {
      "cell_type": "code",
      "source": [
        "top_ranker = []\n",
        "\n",
        "for student in get_ranker(\"인기지수\")[:3]:\n",
        "    top_ranker.append(student[0])\n",
        "\n",
        "top_ranker_text = \", \".join(top_ranker)\n",
        "print(f\"우리 반 인기지수에서 가장 높은 선택을 받은 학생은 {top_ranker_text}입니다.\")"
      ],
      "metadata": {
        "colab": {
          "base_uri": "https://localhost:8080/"
        },
        "id": "fy0CiQ1uFORB",
        "outputId": "e2a9cc27-39e5-4efe-89b0-5ac94841c8a6"
      },
      "execution_count": null,
      "outputs": [
        {
          "output_type": "stream",
          "name": "stdout",
          "text": [
            "우리 반 인기지수에서 가장 높은 선택을 받은 학생은 김민O, 최선O, 이도O입니다.\n"
          ]
        }
      ]
    },
    {
      "cell_type": "code",
      "source": [
        "def print_ranker(category):\n",
        "    top_ranker = []\n",
        "\n",
        "    for student in get_ranker(category)[:3]:\n",
        "        top_ranker.append(student[0])\n",
        "\n",
        "    top_ranker_text = \", \".join(top_ranker)\n",
        "    print(f\"우리 반 {category}에서 가장 높은 선택을 받은 학생은 {top_ranker_text}입니다.\")"
      ],
      "metadata": {
        "id": "5G2SPoLOFHsN"
      },
      "execution_count": null,
      "outputs": []
    },
    {
      "cell_type": "code",
      "source": [
        "print_ranker(\"인기지수\")\n",
        "print_ranker(\"위기지수\")\n",
        "print_ranker(\"브레인지수\")\n",
        "print_ranker(\"미래확장지수\")\n",
        "print_ranker(\"버럭이지수\")"
      ],
      "metadata": {
        "colab": {
          "base_uri": "https://localhost:8080/"
        },
        "id": "hsiMFOhyGDHN",
        "outputId": "db985a76-f989-4258-df64-f8807688312a"
      },
      "execution_count": null,
      "outputs": [
        {
          "output_type": "stream",
          "name": "stdout",
          "text": [
            "우리 반 인기지수에서 가장 높은 선택을 받은 학생은 김민O, 최선O, 이도O입니다.\n",
            "우리 반 위기지수에서 가장 높은 선택을 받은 학생은 홍서O, 김O서, 김리O입니다.\n",
            "우리 반 브레인지수에서 가장 높은 선택을 받은 학생은 김민O, 홍서O, 최다O입니다.\n",
            "우리 반 미래확장지수에서 가장 높은 선택을 받은 학생은 이도O, 김O준, 홍지O입니다.\n",
            "우리 반 버럭이지수에서 가장 높은 선택을 받은 학생은 심현O, 이지O, 김O준입니다.\n"
          ]
        }
      ]
    },
    {
      "cell_type": "markdown",
      "source": [
        "### **[15-2] FriendsNet 최종 코드 활용하기**"
      ],
      "metadata": {
        "id": "s3vipBXqrtDO"
      }
    },
    {
      "cell_type": "code",
      "source": [
        "# requests 모듈 불러오기\n",
        "import requests\n",
        "\n",
        "# CSV 파일 데이터 가져오기\n",
        "url = \"https://raw.githubusercontent.com/gonyo1/FriendsNet_colab/main/code/friendsnet.ipynb\"\n",
        "response = requests.get(url)\n",
        "path = \"파이썬으로 레벨 업/friendsnet.ipynb\"\n",
        "\n",
        "# 바이너리 형식으로 저장\n",
        "with open(path, \"wb\") as f:\n",
        "    f.write(response.content)"
      ],
      "metadata": {
        "id": "msd4e_VWrpyI"
      },
      "execution_count": null,
      "outputs": []
    }
  ]
}