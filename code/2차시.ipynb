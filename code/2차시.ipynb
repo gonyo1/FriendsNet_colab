{
 "cells": [
  {
   "cell_type": "markdown",
   "metadata": {
    "id": "dVJwL0B790Ts"
   },
   "source": [
    "#섹션A"
   ]
  },
  {
   "cell_type": "markdown",
   "metadata": {
    "id": "jOFCI1az93iz"
   },
   "source": [
    "##섹션A-1"
   ]
  },
  {
   "cell_type": "code",
   "execution_count": 3,
   "metadata": {
    "colab": {
     "base_uri": "https://localhost:8080/"
    },
    "executionInfo": {
     "elapsed": 2,
     "status": "ok",
     "timestamp": 1721710953501,
     "user": {
      "displayName": "안종호",
      "userId": "07604696803174673514"
     },
     "user_tz": -540
    },
    "id": "AepvBk199cue",
    "outputId": "7e6f7965-5546-4705-dfcf-03ca94a0a051"
   },
   "outputs": [
    {
     "name": "stdout",
     "output_type": "stream",
     "text": [
      "hello\n"
     ]
    }
   ],
   "source": [
    "#hello출력하기\n",
    "print(\"hello\")"
   ]
  },
  {
   "cell_type": "code",
   "execution_count": 2,
   "metadata": {
    "colab": {
     "base_uri": "https://localhost:8080/",
     "height": 147
    },
    "executionInfo": {
     "elapsed": 378,
     "status": "error",
     "timestamp": 1721710952023,
     "user": {
      "displayName": "안종호",
      "userId": "07604696803174673514"
     },
     "user_tz": -540
    },
    "id": "W84AqVBH-COH",
    "outputId": "6a0d6c0c-3a3b-47e1-bb93-04b3c3838c15"
   },
   "outputs": [
    {
     "ename": "NameError",
     "evalue": "name 'hello' is not defined",
     "output_type": "error",
     "traceback": [
      "\u001b[0;31m---------------------------------------------------------------------------\u001b[0m",
      "\u001b[0;31mNameError\u001b[0m                                 Traceback (most recent call last)",
      "\u001b[0;32m<ipython-input-2-1cd80308eb4c>\u001b[0m in \u001b[0;36m<cell line: 1>\u001b[0;34m()\u001b[0m\n\u001b[0;32m----> 1\u001b[0;31m \u001b[0mprint\u001b[0m\u001b[0;34m(\u001b[0m\u001b[0mhello\u001b[0m\u001b[0;34m)\u001b[0m\u001b[0;34m\u001b[0m\u001b[0;34m\u001b[0m\u001b[0m\n\u001b[0m",
      "\u001b[0;31mNameError\u001b[0m: name 'hello' is not defined"
     ]
    }
   ],
   "source": [
    "print(hello)"
   ]
  }
 ],
 "metadata": {
  "colab": {
   "authorship_tag": "ABX9TyNJpSYNrGuddu5r2AkoDBkh",
   "provenance": []
  },
  "kernelspec": {
   "display_name": "Python 3 (ipykernel)",
   "language": "python",
   "name": "python3"
  },
  "language_info": {
   "codemirror_mode": {
    "name": "ipython",
    "version": 3
   },
   "file_extension": ".py",
   "mimetype": "text/x-python",
   "name": "python",
   "nbconvert_exporter": "python",
   "pygments_lexer": "ipython3",
   "version": "3.11.7"
  }
 },
 "nbformat": 4,
 "nbformat_minor": 4
}
